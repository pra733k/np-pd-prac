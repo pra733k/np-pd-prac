{
 "cells": [
  {
   "cell_type": "markdown",
   "id": "562a0532",
   "metadata": {},
   "source": [
    "#Implementing Concepts of Pandas (Contd.)"
   ]
  },
  {
   "cell_type": "code",
   "execution_count": null,
   "id": "3172dc0b",
   "metadata": {},
   "outputs": [],
   "source": [
    "#            -------- P A N D A S FUNCTIONS & METHODS--------"
   ]
  },
  {
   "cell_type": "code",
   "execution_count": null,
   "id": "dec3179a",
   "metadata": {},
   "outputs": [],
   "source": [
    "# Calling head() method\n",
    "# Syntax: Dataframe.head(n=5)\n",
    "# calls first 5 by default, can pass n in parameter\n",
    "import pandas as pd\n",
    "data = pd.read_csv(\"Sample_CSV_Files_Data_Sets_for_Testing-Human_Resources-100_Records.csv\")\n",
    "series = data[\"First Name\"]  #display only names\n",
    "data_top = series.head(n=20) #top 20 (index 0 to 19)\n",
    "print(data_top)"
   ]
  },
  {
   "cell_type": "code",
   "execution_count": null,
   "id": "6eca60db",
   "metadata": {},
   "outputs": [],
   "source": [
    "# Calling describe method\n",
    "# Syntax: DataFrame.describe(percentiles=None, include=None, exclude=None)\n",
    "import pandas as pd\n",
    "import re\n",
    "data = pd.read_csv(\"Sample_CSV_Files_Data_Sets_for_Testing-Human_Resources-100_Records.csv\")\n",
    "data.dropna(inplace = True)\n",
    "perc =[.20, .40, .60, .80]\n",
    "include =['object', 'float', 'int']\n",
    "desc = data.describe(percentiles = perc, include = include)\n",
    "print(desc)"
   ]
  },
  {
   "cell_type": "code",
   "execution_count": null,
   "id": "80ee909a",
   "metadata": {},
   "outputs": [],
   "source": [
    "# Another example for .describe()\n",
    "import pandas as pd\n",
    "import re\n",
    "data = pd.read_csv(\"Sample_CSV_Files_Data_Sets_for_Testing-Human_Resources-100_Records.csv\")\n",
    "data.dropna(inplace = True)\n",
    "desc = data[\"First Name\"].describe()\n",
    "print(desc)"
   ]
  },
  {
   "cell_type": "code",
   "execution_count": null,
   "id": "fcf76b40",
   "metadata": {},
   "outputs": [],
   "source": [
    "# Extracting rows/multiple rows using .loc[]\n",
    "# Syntax: pandas.DataFrame.loc[]\n",
    "import pandas as pd\n",
    "data = pd.read_csv(\"Sample_CSV_Files_Data_Sets_for_Testing-Human_Resources-100_Records.csv\", index_col =\"First Name\")\n",
    "xyz = data.loc[[\"Matthew\",\"Richard\"]]\n",
    "print(type(xyz))\n",
    "print(xyz)"
   ]
  },
  {
   "cell_type": "code",
   "execution_count": null,
   "id": "21de8d78",
   "metadata": {},
   "outputs": [],
   "source": [
    "# Another exapmle, printing all with H2\n",
    "import pandas as pd\n",
    "data = pd.read_csv(\"Sample_CSV_Files_Data_Sets_for_Testing-Human_Resources-100_Records.csv\", index_col =\"Half of Joining\")\n",
    "rows = data.loc[\"H2\"]\n",
    "print(type(rows))\n",
    "print(rows)"
   ]
  },
  {
   "cell_type": "code",
   "execution_count": null,
   "id": "03518ed2",
   "metadata": {},
   "outputs": [],
   "source": [
    "# Using .iloc[] index label of a data frame is something other than numeric series of 0, 1, 2, 3….n \n",
    "# Syntax: pandas.DataFrame.iloc[]\n",
    "import pandas as pd \n",
    "data = pd.read_csv(\"Sample_CSV_Files_Data_Sets_for_Testing-Human_Resources-100_Records.csv\")\n",
    "abc = data.iloc[2]\n",
    "xys = data.loc[2] # loc compare\n",
    "print(abc, '\\n', xys)\n",
    "print(\"***************\")\n",
    "print(abc == xys)\n",
    "print(\"***************\")"
   ]
  },
  {
   "cell_type": "code",
   "execution_count": null,
   "id": "8c96cb3b",
   "metadata": {},
   "outputs": [],
   "source": [
    "# Extracting multiple rows with index\n",
    "import pandas\n",
    "data = pandas.read_csv(\"Sample_CSV_Files_Data_Sets_for_Testing-Human_Resources-100_Records.csv\")\n",
    "# tyty = data.iloc[1,2,3,4,5] # gives error - pandas.core.indexing.IndexingError: Too many indexers\n",
    "tyty = data.iloc[[1,2,3,4,5]]\n",
    "ytyt = data.iloc[24:27 + 1]\n",
    "print(tyty, \"\\n\\n\\n\", ytyt)"
   ]
  }
 ],
 "metadata": {
  "kernelspec": {
   "display_name": "Python 3",
   "language": "python",
   "name": "python3"
  },
  "language_info": {
   "codemirror_mode": {
    "name": "ipython",
    "version": 3
   },
   "file_extension": ".py",
   "mimetype": "text/x-python",
   "name": "python",
   "nbconvert_exporter": "python",
   "pygments_lexer": "ipython3",
   "version": "3.9.1"
  }
 },
 "nbformat": 4,
 "nbformat_minor": 5
}
