{
 "cells": [
  {
   "cell_type": "markdown",
   "id": "20f29874",
   "metadata": {},
   "source": [
    "#Implementing Concepts of Numpy"
   ]
  },
  {
   "cell_type": "code",
   "execution_count": null,
   "id": "89986908",
   "metadata": {},
   "outputs": [],
   "source": [
    "#Creating an array\n",
    "import numpy as np\n",
    "a = np.array([1, 2, 3])\n",
    "print (\"The new created array is :\", end =\" \")\n",
    "for i in range (0, 3):\n",
    "\tprint (a[i], end =\" \")\n",
    "print()"
   ]
  },
  {
   "cell_type": "code",
   "execution_count": null,
   "id": "31e0327a",
   "metadata": {},
   "outputs": [],
   "source": [
    "# Create random array\n",
    "import numpy as np\n",
    "temp = np.random.randint(1,10, 10)    \n",
    "print(temp)"
   ]
  },
  {
   "cell_type": "code",
   "execution_count": null,
   "id": "b628e5b8",
   "metadata": {},
   "outputs": [],
   "source": [
    "# Using numpy to create arrays and their sum\n",
    "import numpy as np\n",
    "prices = [170.12, 93.29, 55.28, 145.30, 171.81, 59.50, 100.50]\n",
    "earnings = [9.2, 5.31, 2.41, 5.91, 15.42, 2.51, 6.79]\n",
    "prices_array = np.array(prices)\n",
    "earnings_array = np.array(earnings)\n",
    "print(prices_array)\n",
    "print(earnings_array)\n",
    "print(\"Sum of above two arrays are: \", prices_array+earnings_array)"
   ]
  },
  {
   "cell_type": "code",
   "execution_count": null,
   "id": "c6503d72",
   "metadata": {},
   "outputs": [],
   "source": [
    "# Copy of an array\n",
    "from numpy import *\t\t\n",
    "arr1 = array([2, 6, 9, 4])\n",
    "# shallow copy arr1 in arr2 using view()\n",
    "arr2 = arr1.copy()\t\t\t\t\n",
    "print(arr1)\n",
    "print(arr2)"
   ]
  },
  {
   "cell_type": "code",
   "execution_count": null,
   "id": "e589b9c2",
   "metadata": {},
   "outputs": [],
   "source": [
    "# Multiplying arrays using for loop\n",
    "import numpy as np \n",
    "a = [1,2,3]\n",
    "b = [4,5,6]\n",
    "c = []\n",
    "for i in range(len(a)):\n",
    "    c.append(a[i]*b[i])\n",
    "print(c)"
   ]
  },
  {
   "cell_type": "code",
   "execution_count": null,
   "id": "25ea6824",
   "metadata": {},
   "outputs": [],
   "source": [
    "# Getting size of arrays & type after reshaping\n",
    "import numpy as np \n",
    "b=np.array([[1,3,6],[2,4,8],[88,99,100]])\n",
    "print (\"The array is\",b)\n",
    "print (\"Shape of array is \",b.shape)\n",
    "print (\"Size of array is \",b.size) \n",
    "c1= np.array([1,2,3,4,5], dtype = int)\n",
    "c2= np.array([[1,2,3,4,5],[6,7,8,9,10]], dtype = int)\n",
    "c4= np.array([1,2,3], dtype = int)\n",
    "print (c1.itemsize) #4\n",
    "print (c2.itemsize) #4\n",
    "print (c4.itemsize) #4\n",
    "d = np.arange(15).reshape(3, 5)\n",
    "print (d)\n",
    "print (type(d))"
   ]
  },
  {
   "cell_type": "code",
   "execution_count": null,
   "id": "34261a4d",
   "metadata": {},
   "outputs": [],
   "source": [
    "# Minimum dimensions \n",
    "import numpy as np \n",
    "a = np.array([1, 2, 3,4,5], ndmin = 3) \n",
    "print (a)"
   ]
  },
  {
   "cell_type": "markdown",
   "id": "8e6a974f",
   "metadata": {},
   "source": [
    "Curosity Problem ↓\t"
   ]
  },
  {
   "cell_type": "code",
   "execution_count": null,
   "id": "9ca779b9",
   "metadata": {},
   "outputs": [],
   "source": [
    "# Create new array, ask for values, enter value to search and get the index\n",
    "from array import *\n",
    "arr = array('i', [])\n",
    "n = int(input(\"Enter length of array: \"))\n",
    "for i in range(n):\n",
    "\tx = int(input(\"Enter value of array: \"))\n",
    "\tarr.append(x)\n",
    "print(arr)\n",
    "val = int(input(\"Enter value to search: \"))\n",
    "c=0\n",
    "for e in arr:\n",
    "\tif e==val:\n",
    "\t\tprint(\"Index is: \",c)\n",
    "\t\tbreak\n",
    "\tc+=1"
   ]
  },
  {
   "cell_type": "code",
   "execution_count": null,
   "id": "abaabdfe",
   "metadata": {},
   "outputs": [],
   "source": [
    "# MAKING OF AN ARRAY\n",
    "import numpy as np\n",
    "try:\n",
    "\tn = int(input(\"Select till where to add numbers: \"))\n",
    "\tx = int(input(\"Enter number of rows: \"))\n",
    "\ty = int(input(\"Enter number of columns: \"))\n",
    "\tif n == x*y:\n",
    "\t\tarr = np.arange(n).reshape(x,y)\n",
    "\t\tprint (arr)\n",
    "\telse:\n",
    "\t\tprint(\"Entered values of rows and columns don't make up an array!\")\n",
    "except:\n",
    "\tprint(\"Please enter valid values\")\n",
    "\n",
    "import numpy as np \n",
    "n = int(input(\"Enter n: \"))\n",
    "arr = np.arange(n)\n",
    "for i in range(n):\n",
    "\tarr[i] = int(input(\"Enter val: \"))\n",
    "print(arr)"
   ]
  },
  {
   "cell_type": "code",
   "execution_count": null,
   "id": "01edc623",
   "metadata": {},
   "outputs": [],
   "source": [
    "# Array Slicing \n",
    "import numpy as np\n",
    "arr1=np.array(['f', 'h', 'j', 'd', 'o', 'h', 'b', 'c', 'v', 'n'])\n",
    "arr2=np.array([1,2,3,4,5,6,7,8,9])\n",
    "arr3=np.array([[1, 2, 3, 4, 5], [6, 7, 8, 9, 10]])\n",
    "print(arr1[:3]) \n",
    "print(arr1[0:3])\n",
    "print(arr1[3:]) \n",
    "print(arr1[::2])\n",
    "print(arr2[-4:-1])\n",
    "print(arr2[::2]) \n",
    "print(arr3[1,1:4])\n",
    "print(arr3[0:2, 2])\n",
    "print(arr3[0:2, 1:4])"
   ]
  },
  {
   "cell_type": "code",
   "execution_count": null,
   "id": "2dfc9760",
   "metadata": {},
   "outputs": [],
   "source": [
    "# Array slicing examples (array elements, elements inside array)\n",
    "import numpy as np\n",
    "arr3=np.array([[11, 22, 33, 44, 55], [66, 77, 88, 99, 100], [110, 120, 130, 140, 150]])\n",
    "print(arr3[1, 1:4])\n",
    "print(arr3[1:3, 3])\n",
    "print(arr3[0:2, 1:4])"
   ]
  },
  {
   "cell_type": "code",
   "execution_count": null,
   "id": "a593f9f8",
   "metadata": {},
   "outputs": [],
   "source": [
    "# More slicing\n",
    "import numpy as np\n",
    "data = np.array([1, 2, 3])\n",
    "print(data[1])\n",
    "print(data[0:2])\n",
    "print(data[1:])\n",
    "print(data[-2:])\n",
    "3-D Array\n",
    "import numpy as np\n",
    "array_example = np.array([[[0, 1, 2, 3],\n",
    "                            [4, 5, 6, 7]],\n",
    "\n",
    "                           [[0, 1, 2, 3],\n",
    "                            [4, 5, 6, 7]],\n",
    "\n",
    "                           [[0 ,1 ,2, 3],\n",
    "                            [4, 5, 6, 7]]])\n",
    "print(array_example.ndim)\n",
    "print(array_example.size)\n",
    "print(array_example.shape)"
   ]
  },
  {
   "cell_type": "code",
   "execution_count": null,
   "id": "9e08a594",
   "metadata": {},
   "outputs": [],
   "source": [
    "# Array Reshaping\n",
    "import numpy as np\n",
    "arr1 = np.array([1, 2, 3, 4, 5, 6, 7, 8, 9, 10, 11, 12])\n",
    "newarr1 = arr1.reshape(6,2)\n",
    "arr2 = np.array(['D','e','V','I','n','c','e','p','t'])\n",
    "newarr2 = arr2.reshape(3,3)\n",
    "print(newarr1)\n",
    "print(newarr2)"
   ]
  },
  {
   "cell_type": "code",
   "execution_count": null,
   "id": "5963944b",
   "metadata": {},
   "outputs": [],
   "source": [
    "# Reshape from 1-Dimensional to 3-Dimensional\n",
    "import numpy as np\n",
    "arr = np.array([1, 2, 3, 4, 5, 6, 7, 8, 9, 10, 11, 12])\n",
    "newarr = arr.reshape(2, 3, 2)\n",
    "print(newarr)"
   ]
  },
  {
   "cell_type": "code",
   "execution_count": null,
   "id": "b7d153db",
   "metadata": {},
   "outputs": [],
   "source": [
    "# Multi-Dimensional Array into 1-Dimensional Array\n",
    "import numpy as np\n",
    "arr = np.array([[[0, 1, 2, 3],\n",
    "                [4, 5, 6, 7]],\n",
    "                [[0, 1, 2, 3],\n",
    "                [4, 5, 6, 7]],\n",
    "                [[0 ,1 ,2, 3],\n",
    "                [4, 5, 6, 7]]])\n",
    "newarr = arr.reshape(-1)\n",
    "print(newarr)"
   ]
  },
  {
   "cell_type": "markdown",
   "id": "4f550c63",
   "metadata": {},
   "source": [
    "Curosity Problem ↓\t"
   ]
  },
  {
   "cell_type": "code",
   "execution_count": null,
   "id": "1fef2d9d",
   "metadata": {},
   "outputs": [],
   "source": [
    "# Create new array, reshape from 1-D to n-D\n",
    "import numpy as np \n",
    "n = int(input(\"Enter size of array: \"))\n",
    "arr= np.arange(n)\n",
    "print(\"Now enter the desired no. of dimensions below.\")\n",
    "m = int(input(\"Number of dimensions you want to add: \"))\n",
    "try:\n",
    "\tli =[]\n",
    "\tfor i in range(m):\n",
    "\t\tx = int(input(\"Enter: \"))\n",
    "\t\tli.append(x)\n",
    "\tar=arr.reshape(li)\n",
    "\tprint(ar)\n",
    "except:\n",
    "\tprint(\" E R R O R ! ! !  Enter correct values!\")"
   ]
  },
  {
   "cell_type": "code",
   "execution_count": null,
   "id": "6f57d329",
   "metadata": {},
   "outputs": [],
   "source": [
    "# All types of Sorting in arrays using numpy\n",
    "import numpy as np \n",
    "array = np.array([0,5,6,99,1,50,78,66,10])\n",
    "print(\"The original array is: \", array)\n",
    "x=array[::-1]\n",
    "print(\"Reverse of array is: \", x)\n",
    "y = np.sort(array)[::-1]\n",
    "print(\"Descending order array is: \", y)\n",
    "z = np.sort(array)\n",
    "print(\"Ascending order array is: \", z)\n",
    "str_arr = np.array(['q', 'e', 'w', 'r', 'w', 't', 'e', 'y', 'r', \n",
    "\t'u', 'y', 'o', 'i', 'u', 'p', 'o', 'i', 'l', 'j', 'k', 'l', \n",
    "\t'g', 'j', 'f', 'h', 'j', 'd', 'o', 'h', 'f', 's', 'g', 'v', \n",
    "\t'x', 'a', 'b', 'c', 'v', 'n', 'v', 'm', 'f', 't', 'l', 'r'])\n",
    "print(\"The original str_arr is: \", str_arr)\n",
    "a = str_arr[::-1]\n",
    "print(\"Reverse of str_arr is: \", a)\n",
    "b = np.sort(str_arr)[::-1]\n",
    "print(\"Descending order str_arr is: \", b)\n",
    "c = np.sort(str_arr)\n",
    "print(\"Ascending order str_arr is: \", c)"
   ]
  },
  {
   "cell_type": "code",
   "execution_count": null,
   "id": "edeaca44",
   "metadata": {},
   "outputs": [],
   "source": [
    "# Numpy Searching - Returns the indices of the searched value.\n",
    "import numpy as np\n",
    "arr = np.array([[1,2,3,4,5,6,7,8,9,10],[10,9,8,7,6,5,4,3,2,1]])\n",
    "x = np.where(arr == 1)\n",
    "y = np.where(arr%2 == 1)\n",
    "z = np.where(arr%2 != 1)\n",
    "print(x)\n",
    "print(y)\n",
    "print(z)"
   ]
  },
  {
   "cell_type": "code",
   "execution_count": null,
   "id": "76690e35",
   "metadata": {},
   "outputs": [],
   "source": [
    "# Numpy Searching - Returns the values of the searched index.\n",
    "import numpy as np\n",
    "arr1 = np.array([6, 7, 8, 9])\n",
    "x = np.searchsorted(arr1, 7)\n",
    "print(x)\n",
    "in_arr = [2, 3, 4, 5, 6]\n",
    "print (\"Input array : \", in_arr)\n",
    "num = [4, 8, 0]\n",
    "print(\"The number which we want to insert : \", num)\n",
    "out_ind = np.searchsorted(in_arr, num)\n",
    "print (\"Output indices to maintain sorted array : \", out_ind)"
   ]
  },
  {
   "cell_type": "code",
   "execution_count": null,
   "id": "0e8d78d5",
   "metadata": {},
   "outputs": [],
   "source": [
    "# Mean, Median, Mode & standard Deviation\n",
    "\n",
    "# Mean - The average value using numpy\n",
    "# Median - The mid point value\n",
    "# Mode - The most common value (Not available in numpy library)\n",
    "# Standard Deviation - measure of the amount of variation or dispersion of a set of values\n",
    "import numpy as np\n",
    "from scipy import stats\n",
    "l1 = [1,2,3,4,5,5,6,6,6,6]\n",
    "m = float(np.mean(l1))\n",
    "print(f\"Mean: {m}\")\n",
    "mm = float(np.median(l1))\n",
    "print(f\"Median: {mm}\")\n",
    "x = stats.mode(l1)[0]\n",
    "y = float(x[0])\n",
    "print(f\"Mode: {y}\")\n",
    "std = float(np.std(l1))\n",
    "print(f\"Standard Deviation: {std}\")"
   ]
  }
 ],
 "metadata": {
  "kernelspec": {
   "display_name": "Python 3",
   "language": "python",
   "name": "python3"
  },
  "language_info": {
   "codemirror_mode": {
    "name": "ipython",
    "version": 3
   },
   "file_extension": ".py",
   "mimetype": "text/x-python",
   "name": "python",
   "nbconvert_exporter": "python",
   "pygments_lexer": "ipython3",
   "version": "3.9.1"
  }
 },
 "nbformat": 4,
 "nbformat_minor": 5
}
