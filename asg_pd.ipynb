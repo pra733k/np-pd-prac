{
 "cells": [
  {
   "cell_type": "markdown",
   "id": "93e5366d",
   "metadata": {},
   "source": [
    "# Assignment (Py Module-3) Implementing Concepts of Pandas"
   ]
  },
  {
   "cell_type": "code",
   "execution_count": null,
   "id": "bf02fd98",
   "metadata": {},
   "outputs": [],
   "source": [
    "#            -------- P A N D A S SERIES --------"
   ]
  },
  {
   "cell_type": "code",
   "execution_count": null,
   "id": "373518cb",
   "metadata": {},
   "outputs": [],
   "source": [
    "# Creating a series from an array\n",
    "import pandas as pd\n",
    "import numpy as np\n",
    "arr = np.array(['c','o','p','y','c','a','t'])\n",
    "ser = pd.Series(arr)\n",
    "print(ser)"
   ]
  },
  {
   "cell_type": "code",
   "execution_count": null,
   "id": "0af35885",
   "metadata": {},
   "outputs": [],
   "source": [
    "# Series from list (w/o numpy)\n",
    "import pandas as pd\n",
    "list = ['c','o','p','y','c','a','t']\n",
    "ser = pd.Series(list)\n",
    "print(ser)"
   ]
  },
  {
   "cell_type": "code",
   "execution_count": null,
   "id": "8a3634be",
   "metadata": {},
   "outputs": [],
   "source": [
    "# Accessing elements or SLICING \n",
    "import pandas as pd\n",
    "import numpy as np\n",
    "data = np.array(['c','o','p','y','c','a','t'])\n",
    "ser = pd.Series(data)\n",
    "print(ser[:4]) # prints C,O,P,Y"
   ]
  },
  {
   "cell_type": "code",
   "execution_count": null,
   "id": "96766eb4",
   "metadata": {},
   "outputs": [],
   "source": [
    "# Using Label (index) to access elements or SLICING\n",
    "# use argument-unpacking operator i.e. * to create list \n",
    "import pandas as pd\n",
    "import numpy as np\n",
    "data = np.array(['c','o','p','y','c','a','t'])\n",
    "ser = pd.Series(data,index=[*range(5,12)]) # index should be equal to length of list\n",
    "print(ser[9])"
   ]
  },
  {
   "cell_type": "code",
   "execution_count": null,
   "id": "33012df7",
   "metadata": {},
   "outputs": [],
   "source": [
    "# Subset Selection in pandas \n",
    "import pandas as pd  \n",
    "df = pd.read_csv(\"Sample_CSV_Files_Data_Sets_for_Testing-Human_Resources-100_Records.csv\")  \n",
    "ser = pd.Series(df['First Name']) \n",
    "data = ser.head(50) # prints 50 first names \n",
    "print(data)"
   ]
  },
  {
   "cell_type": "code",
   "execution_count": null,
   "id": "58d43a69",
   "metadata": {},
   "outputs": [],
   "source": [
    "# Using .iloc & .loc\n",
    "import pandas as pd  \n",
    "df = pd.read_csv(\"Sample_CSV_Files_Data_Sets_for_Testing-Human_Resources-100_Records.csv\")  \n",
    "ser = pd.Series(df['First Name']) \n",
    "data = ser.head(50)  \n",
    "print(data.loc[27:32]) #select subsets of data\n",
    "print(data.iloc[24:27+1]) #integer locations to make its selection"
   ]
  },
  {
   "cell_type": "code",
   "execution_count": null,
   "id": "147e7102",
   "metadata": {},
   "outputs": [],
   "source": [
    "# Adding & Subtracting Series\n",
    "import pandas as pd  \n",
    "data1 = pd.Series([5, 2, 3,7], index=['a', 'b', 'c', 'd'])\n",
    "data2 = pd.Series([1, 6, 4, 9], index=['a', 'b', 'c', 'd'])\n",
    "x = data1+data2\n",
    "print(x)\n",
    "print(\"**************\")\n",
    "# another method is :\n",
    "y = data1.add(data2, fill_value=0)\n",
    "print(y)\n",
    "k = data1-data2\n",
    "print(k)\n",
    "print(\"**************\")\n",
    "# another method is :\n",
    "j = data1.sub(data2, fill_value=0)\n",
    "print(j)"
   ]
  },
  {
   "cell_type": "code",
   "execution_count": null,
   "id": "3bda391c",
   "metadata": {},
   "outputs": [],
   "source": [
    "# Converting Data Types in a Series \n",
    "import pandas as pd \n",
    "data = pd.read_csv(\"Sample_CSV_Files_Data_Sets_for_Testing-Human_Resources-100_Records.csv\") \n",
    "data.dropna(inplace = True) \n",
    "before = data.dtypes \n",
    "data[\"Zip\"]= data[\"Zip\"].astype(int) \n",
    "data[\"Salary\"]= data[\"Salary\"].astype(str) \n",
    "after = data.dtypes \n",
    "print(\"BEFORE CONVERSION\\n\", before, \"\\n\") \n",
    "print(\"AFTER CONVERSION\\n\", after, \"\\n\")"
   ]
  },
  {
   "cell_type": "code",
   "execution_count": null,
   "id": "5965e421",
   "metadata": {},
   "outputs": [],
   "source": [
    "#            -------- P A N D A S DATAFRAMES --------"
   ]
  },
  {
   "cell_type": "code",
   "execution_count": null,
   "id": "63ae09c0",
   "metadata": {},
   "outputs": [],
   "source": [
    "# Creating a basic dataframe with one column only\n",
    "import pandas as pd\n",
    "li = ['Copy', 'Cat', 'is','portal', 'of', 'Dev']\n",
    "df = pd.DataFrame(li)\n",
    "print(df)"
   ]
  },
  {
   "cell_type": "code",
   "execution_count": null,
   "id": "6a586b04",
   "metadata": {},
   "outputs": [],
   "source": [
    "# Creating a dataframe from Dictionary\n",
    "import pandas as pd\n",
    "data = {'Car':['Ciaz', 'Duster', 'WagonR', 'Santro'],'Age':[5, 7, 10, 4]}\n",
    "df = pd.DataFrame(data)\n",
    "print(df)"
   ]
  },
  {
   "cell_type": "markdown",
   "id": "721e1bdb",
   "metadata": {},
   "source": [
    "Curosity Problem ↓"
   ]
  },
  {
   "cell_type": "code",
   "execution_count": null,
   "id": "50a46212",
   "metadata": {},
   "outputs": [],
   "source": [
    "# Create a Dataframe from two different lists\n",
    "import pandas as pd\n",
    "car = ['Ciaz', 'Duster', 'WagonR', 'Santro']\n",
    "age = [5, 7, 10, 4]\n",
    "df = pd.DataFrame(list(zip(car, age)),columns =['Car is', 'Age is'])\n",
    "print(df)"
   ]
  },
  {
   "cell_type": "code",
   "execution_count": null,
   "id": "51813a26",
   "metadata": {},
   "outputs": [],
   "source": [
    "# Selecting Columns in a Dataframe\n",
    "import pandas as pd\n",
    "data = {'Car':['Ciaz', 'Duster', 'WagonR', 'Santro'],\n",
    "\t\t'Age':[5, 7, 10, 4],\n",
    "\t\t'Color':['White', 'Brown', 'White', 'Golden']}\n",
    "df = pd.DataFrame(data)\n",
    "print(df[['Car', 'Color']])"
   ]
  },
  {
   "cell_type": "code",
   "execution_count": null,
   "id": "ff36bcea",
   "metadata": {},
   "outputs": [],
   "source": [
    "# Selecting Rows in a Dataframe using .loc\n",
    "import pandas as pd\n",
    "data = pd.read_csv(\"Sample_CSV_Files_Data_Sets_for_Testing-Human_Resources-100_Records.csv\", index_col =\"First Name\")\n",
    "y = data.loc[\"Matthew\"]\n",
    "print(y)"
   ]
  },
  {
   "cell_type": "code",
   "execution_count": null,
   "id": "576198bf",
   "metadata": {},
   "outputs": [],
   "source": [
    "# Subset Selection in Dataframe\n",
    "import pandas as pd\n",
    "data = pd.read_csv(\"Sample_CSV_Files_Data_Sets_for_Testing-Human_Resources-100_Records.csv\")\n",
    "x = data[\"First Name\"]\n",
    "print(x) # prints column first name with 100 length"
   ]
  },
  {
   "cell_type": "code",
   "execution_count": null,
   "id": "0d5da6c1",
   "metadata": {},
   "outputs": [],
   "source": [
    "# Subset Selection in Dataframe using .loc - label of rows and columns\n",
    "import pandas as pd\n",
    "data = pd.read_csv(\"Sample_CSV_Files_Data_Sets_for_Testing-Human_Resources-100_Records.csv\", index_col =\"First Name\")\n",
    "x = data.loc[\"Tammy\"]\n",
    "y = data.loc[\"Matthew\"]\n",
    "print(x, \"\\n\\n\\n\", y)"
   ]
  },
  {
   "cell_type": "code",
   "execution_count": null,
   "id": "9a52a3c8",
   "metadata": {},
   "outputs": [],
   "source": [
    "# Indexing a dataframe using .iloc method\n",
    "import pandas as pd\n",
    "data = pd.read_csv(\"Sample_CSV_Files_Data_Sets_for_Testing-Human_Resources-100_Records.csv\", index_col =\"First Name\")\n",
    "row = data.iloc[99] \n",
    "print(row)"
   ]
  },
  {
   "cell_type": "code",
   "execution_count": null,
   "id": "37dd0b59",
   "metadata": {},
   "outputs": [],
   "source": [
    "# Using isnull() and notnull() in Dataframe\n",
    "import pandas as pd\n",
    "import numpy as np\n",
    "data = {'Car':['Ciaz', 'Duster', np.nan, 'Santro'],\n",
    "\t\t'Age':[5, 7, 10, 4],\n",
    "\t\t'Color':['White', np.nan, 'White', 'Golden']}\n",
    "df = pd.DataFrame(data)\n",
    "print(df.isnull())\n",
    "print('\\n')\n",
    "print(df.notnull())"
   ]
  },
  {
   "cell_type": "code",
   "execution_count": null,
   "id": "51b3de7d",
   "metadata": {},
   "outputs": [],
   "source": [
    "# Interpolate() function (Filling null values) is basically used to fill NA values in the dataframe but it uses various \n",
    "# interpolation technique to fill the missing values rather than hard-coding the value.\n",
    "import pandas as pd\n",
    "df = pd.DataFrame({\"A\":[12, 4, 5, None, 1],\n",
    "\t\t\t\t\"B\":[None, 2, 54, 3, None],\n",
    "\t\t\t\t\"C\":[20, 16, None, 3, 8],\n",
    "\t\t\t\t\"D\":[14, 3, None, None, 6]})\n",
    "print(df,'\\n')\n",
    "print(df.interpolate(method ='piecewise_polynomial', limit_direction ='forward'))"
   ]
  },
  {
   "cell_type": "code",
   "execution_count": null,
   "id": "e0c3ced6",
   "metadata": {},
   "outputs": [],
   "source": [
    "# Filling null values with zeroes using .fillna()\n",
    "import pandas as pd\n",
    "import numpy as np\n",
    "x = {'First Score':[100, 90, np.nan, 95],\n",
    "        'Second Score': [30, 45, 56, np.nan],\n",
    "        'Third Score':[np.nan, 40, 80, 98]}\n",
    "df = pd.DataFrame(x)\n",
    "print(df,'\\n\\n',df.fillna(0))"
   ]
  },
  {
   "cell_type": "code",
   "execution_count": null,
   "id": "01a0efb5",
   "metadata": {},
   "outputs": [],
   "source": [
    "#  Drop rows with at least one null value using .dropna()\n",
    "import pandas as pd\n",
    "import numpy as np\n",
    "dict = {'First Score':[100, 90, np.nan, 95],\n",
    "        'Second Score': [30, np.nan, 45, 56],\n",
    "        'Third Score':[52, 40, 80, 98],\n",
    "        'Fourth Score':[np.nan, np.nan, np.nan, 65]}\n",
    "df = pd.DataFrame(dict) \n",
    "print(df, '\\n\\n', df.dropna())"
   ]
  },
  {
   "cell_type": "code",
   "execution_count": null,
   "id": "272c864a",
   "metadata": {},
   "outputs": [],
   "source": [
    "# Iterating over rows & columns\n",
    "import pandas as pd\n",
    "dict = {'name':[\"aparna\", \"pankaj\", \"sudhir\", \"Geeku\"],\n",
    "        'degree': [\"MBA\", \"BCA\", \"M.Tech\", \"MBA\"],\n",
    "        'score':[90, 40, 80, 98]}\n",
    "df = pd.DataFrame(dict) \n",
    "for i, j in df.iterrows():\n",
    "    print(i, j)\n",
    "    print()\n",
    "columns = list(df)\n",
    "for k in columns:\n",
    "    print (df[k][2]) #third element of the column"
   ]
  }
 ],
 "metadata": {
  "kernelspec": {
   "display_name": "Python 3",
   "language": "python",
   "name": "python3"
  },
  "language_info": {
   "codemirror_mode": {
    "name": "ipython",
    "version": 3
   },
   "file_extension": ".py",
   "mimetype": "text/x-python",
   "name": "python",
   "nbconvert_exporter": "python",
   "pygments_lexer": "ipython3",
   "version": "3.9.1"
  }
 },
 "nbformat": 4,
 "nbformat_minor": 5
}
